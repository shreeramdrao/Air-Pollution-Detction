{
 "cells": [
  {
   "cell_type": "markdown",
   "id": "81d85729",
   "metadata": {
    "id": "gwcS5Uepa4aa",
    "papermill": {
     "duration": 0.006139,
     "end_time": "2022-06-21T20:06:28.790111",
     "exception": false,
     "start_time": "2022-06-21T20:06:28.783972",
     "status": "completed"
    },
    "tags": []
   },
   "source": [
    "## Load Data"
   ]
  },
  {
   "cell_type": "code",
   "execution_count": 1,
   "id": "9102aec9",
   "metadata": {
    "execution": {
     "iopub.execute_input": "2022-06-21T20:06:28.803464Z",
     "iopub.status.busy": "2022-06-21T20:06:28.802591Z",
     "iopub.status.idle": "2022-06-21T20:06:28.827148Z",
     "shell.execute_reply": "2022-06-21T20:06:28.825990Z"
    },
    "id": "_MpTYSFWVdFo",
    "outputId": "40d414bc-dca7-4cfd-c313-2a1950eb0643",
    "papermill": {
     "duration": 0.034172,
     "end_time": "2022-06-21T20:06:28.829685",
     "exception": false,
     "start_time": "2022-06-21T20:06:28.795513",
     "status": "completed"
    },
    "tags": []
   },
   "outputs": [
    {
     "name": "stdout",
     "output_type": "stream",
     "text": [
      "['Measurement_summary.csv', 'Original Data']\n",
      "['Measurement_station_info.csv', 'Measurement_item_info.csv', 'Measurement_info.csv']\n"
     ]
    }
   ],
   "source": [
    "import os\n",
    "from pandas import read_csv\n",
    "\n",
    "data_dir = '/kaggle/input/air-pollution-in-seoul/AirPollutionSeoul'\n",
    "original_data = data_dir + '/Original Data'\n",
    "\n",
    "print(os.listdir(data_dir))\n",
    "print(os.listdir(original_data))"
   ]
  },
  {
   "cell_type": "code",
   "execution_count": 2,
   "id": "3b9837f8",
   "metadata": {
    "execution": {
     "iopub.execute_input": "2022-06-21T20:06:28.842557Z",
     "iopub.status.busy": "2022-06-21T20:06:28.842164Z",
     "iopub.status.idle": "2022-06-21T20:06:28.875286Z",
     "shell.execute_reply": "2022-06-21T20:06:28.874114Z"
    },
    "id": "dl-6LGyva8tY",
    "outputId": "56dc69f9-04d8-40ca-bb21-681a06a6c430",
    "papermill": {
     "duration": 0.042478,
     "end_time": "2022-06-21T20:06:28.877516",
     "exception": false,
     "start_time": "2022-06-21T20:06:28.835038",
     "status": "completed"
    },
    "tags": []
   },
   "outputs": [
    {
     "name": "stdout",
     "output_type": "stream",
     "text": [
      "(6, 7)\n",
      "Item code                int64\n",
      "Item name               object\n",
      "Unit of measurement     object\n",
      "Good(Blue)             float64\n",
      "Normal(Green)          float64\n",
      "Bad(Yellow)            float64\n",
      "Very bad(Red)          float64\n",
      "dtype: object\n"
     ]
    },
    {
     "data": {
      "text/html": [
       "<div>\n",
       "<style scoped>\n",
       "    .dataframe tbody tr th:only-of-type {\n",
       "        vertical-align: middle;\n",
       "    }\n",
       "\n",
       "    .dataframe tbody tr th {\n",
       "        vertical-align: top;\n",
       "    }\n",
       "\n",
       "    .dataframe thead th {\n",
       "        text-align: right;\n",
       "    }\n",
       "</style>\n",
       "<table border=\"1\" class=\"dataframe\">\n",
       "  <thead>\n",
       "    <tr style=\"text-align: right;\">\n",
       "      <th></th>\n",
       "      <th>Item code</th>\n",
       "      <th>Item name</th>\n",
       "      <th>Unit of measurement</th>\n",
       "      <th>Good(Blue)</th>\n",
       "      <th>Normal(Green)</th>\n",
       "      <th>Bad(Yellow)</th>\n",
       "      <th>Very bad(Red)</th>\n",
       "    </tr>\n",
       "  </thead>\n",
       "  <tbody>\n",
       "    <tr>\n",
       "      <th>0</th>\n",
       "      <td>1</td>\n",
       "      <td>SO2</td>\n",
       "      <td>ppm</td>\n",
       "      <td>0.02</td>\n",
       "      <td>0.05</td>\n",
       "      <td>0.15</td>\n",
       "      <td>1.0</td>\n",
       "    </tr>\n",
       "    <tr>\n",
       "      <th>1</th>\n",
       "      <td>3</td>\n",
       "      <td>NO2</td>\n",
       "      <td>ppm</td>\n",
       "      <td>0.03</td>\n",
       "      <td>0.06</td>\n",
       "      <td>0.20</td>\n",
       "      <td>2.0</td>\n",
       "    </tr>\n",
       "    <tr>\n",
       "      <th>2</th>\n",
       "      <td>5</td>\n",
       "      <td>CO</td>\n",
       "      <td>ppm</td>\n",
       "      <td>2.00</td>\n",
       "      <td>9.00</td>\n",
       "      <td>15.00</td>\n",
       "      <td>50.0</td>\n",
       "    </tr>\n",
       "    <tr>\n",
       "      <th>3</th>\n",
       "      <td>6</td>\n",
       "      <td>O3</td>\n",
       "      <td>ppm</td>\n",
       "      <td>0.03</td>\n",
       "      <td>0.09</td>\n",
       "      <td>0.15</td>\n",
       "      <td>0.5</td>\n",
       "    </tr>\n",
       "    <tr>\n",
       "      <th>4</th>\n",
       "      <td>8</td>\n",
       "      <td>PM10</td>\n",
       "      <td>Mircrogram/m3</td>\n",
       "      <td>30.00</td>\n",
       "      <td>80.00</td>\n",
       "      <td>150.00</td>\n",
       "      <td>600.0</td>\n",
       "    </tr>\n",
       "    <tr>\n",
       "      <th>5</th>\n",
       "      <td>9</td>\n",
       "      <td>PM2.5</td>\n",
       "      <td>Mircrogram/m3</td>\n",
       "      <td>15.00</td>\n",
       "      <td>35.00</td>\n",
       "      <td>75.00</td>\n",
       "      <td>500.0</td>\n",
       "    </tr>\n",
       "  </tbody>\n",
       "</table>\n",
       "</div>"
      ],
      "text/plain": [
       "   Item code Item name Unit of measurement  Good(Blue)  Normal(Green)  \\\n",
       "0          1       SO2                 ppm        0.02           0.05   \n",
       "1          3       NO2                 ppm        0.03           0.06   \n",
       "2          5        CO                 ppm        2.00           9.00   \n",
       "3          6        O3                 ppm        0.03           0.09   \n",
       "4          8      PM10       Mircrogram/m3       30.00          80.00   \n",
       "5          9     PM2.5       Mircrogram/m3       15.00          35.00   \n",
       "\n",
       "   Bad(Yellow)  Very bad(Red)  \n",
       "0         0.15            1.0  \n",
       "1         0.20            2.0  \n",
       "2        15.00           50.0  \n",
       "3         0.15            0.5  \n",
       "4       150.00          600.0  \n",
       "5        75.00          500.0  "
      ]
     },
     "execution_count": 2,
     "metadata": {},
     "output_type": "execute_result"
    }
   ],
   "source": [
    "item_info = read_csv(original_data + '/Measurement_item_info.csv')\n",
    "print(item_info.shape)\n",
    "print(item_info.dtypes)\n",
    "item_info"
   ]
  },
  {
   "cell_type": "code",
   "execution_count": 3,
   "id": "28ed5133",
   "metadata": {
    "execution": {
     "iopub.execute_input": "2022-06-21T20:06:28.890417Z",
     "iopub.status.busy": "2022-06-21T20:06:28.889779Z",
     "iopub.status.idle": "2022-06-21T20:06:28.899093Z",
     "shell.execute_reply": "2022-06-21T20:06:28.897782Z"
    },
    "id": "E15wqQf9tJzL",
    "outputId": "cd8dee3a-750e-4e13-f255-99161ec25a2d",
    "papermill": {
     "duration": 0.018209,
     "end_time": "2022-06-21T20:06:28.901072",
     "exception": false,
     "start_time": "2022-06-21T20:06:28.882863",
     "status": "completed"
    },
    "tags": []
   },
   "outputs": [
    {
     "name": "stdout",
     "output_type": "stream",
     "text": [
      "{1: 'SO2', 3: 'NO2', 5: 'CO', 6: 'O3', 8: 'PM10', 9: 'PM2.5'}\n"
     ]
    }
   ],
   "source": [
    "item_code = item_info['Item code'].tolist()\n",
    "item_name = item_info['Item name'].tolist()\n",
    "\n",
    "\n",
    "item_dict = { k:v for (k,v) in zip(item_code, item_name)}\n",
    "print(item_dict)\n"
   ]
  },
  {
   "cell_type": "code",
   "execution_count": 4,
   "id": "1a694737",
   "metadata": {
    "execution": {
     "iopub.execute_input": "2022-06-21T20:06:28.913764Z",
     "iopub.status.busy": "2022-06-21T20:06:28.913124Z",
     "iopub.status.idle": "2022-06-21T20:06:28.931609Z",
     "shell.execute_reply": "2022-06-21T20:06:28.930148Z"
    },
    "id": "CZbqPkWNbZi9",
    "outputId": "f25eb895-6edf-4a9e-8c30-061c4c9b8a94",
    "papermill": {
     "duration": 0.028218,
     "end_time": "2022-06-21T20:06:28.934663",
     "exception": false,
     "start_time": "2022-06-21T20:06:28.906445",
     "status": "completed"
    },
    "tags": []
   },
   "outputs": [
    {
     "name": "stdout",
     "output_type": "stream",
     "text": [
      "(25, 5)\n",
      "Station code                int64\n",
      "Station name(district)     object\n",
      "Address                    object\n",
      "Latitude                  float64\n",
      "Longitude                 float64\n",
      "dtype: object\n"
     ]
    },
    {
     "data": {
      "text/html": [
       "<div>\n",
       "<style scoped>\n",
       "    .dataframe tbody tr th:only-of-type {\n",
       "        vertical-align: middle;\n",
       "    }\n",
       "\n",
       "    .dataframe tbody tr th {\n",
       "        vertical-align: top;\n",
       "    }\n",
       "\n",
       "    .dataframe thead th {\n",
       "        text-align: right;\n",
       "    }\n",
       "</style>\n",
       "<table border=\"1\" class=\"dataframe\">\n",
       "  <thead>\n",
       "    <tr style=\"text-align: right;\">\n",
       "      <th></th>\n",
       "      <th>Station code</th>\n",
       "      <th>Station name(district)</th>\n",
       "      <th>Address</th>\n",
       "      <th>Latitude</th>\n",
       "      <th>Longitude</th>\n",
       "    </tr>\n",
       "  </thead>\n",
       "  <tbody>\n",
       "    <tr>\n",
       "      <th>0</th>\n",
       "      <td>101</td>\n",
       "      <td>Jongno-gu</td>\n",
       "      <td>19, Jong-ro 35ga-gil, Jongno-gu, Seoul, Republ...</td>\n",
       "      <td>37.572016</td>\n",
       "      <td>127.005008</td>\n",
       "    </tr>\n",
       "    <tr>\n",
       "      <th>1</th>\n",
       "      <td>102</td>\n",
       "      <td>Jung-gu</td>\n",
       "      <td>15, Deoksugung-gil, Jung-gu, Seoul, Republic o...</td>\n",
       "      <td>37.564263</td>\n",
       "      <td>126.974676</td>\n",
       "    </tr>\n",
       "    <tr>\n",
       "      <th>2</th>\n",
       "      <td>103</td>\n",
       "      <td>Yongsan-gu</td>\n",
       "      <td>136, Hannam-daero, Yongsan-gu, Seoul, Republic...</td>\n",
       "      <td>37.540033</td>\n",
       "      <td>127.004850</td>\n",
       "    </tr>\n",
       "    <tr>\n",
       "      <th>3</th>\n",
       "      <td>104</td>\n",
       "      <td>Eunpyeong-gu</td>\n",
       "      <td>215, Jinheung-ro, Eunpyeong-gu, Seoul, Republi...</td>\n",
       "      <td>37.609823</td>\n",
       "      <td>126.934848</td>\n",
       "    </tr>\n",
       "    <tr>\n",
       "      <th>4</th>\n",
       "      <td>105</td>\n",
       "      <td>Seodaemun-gu</td>\n",
       "      <td>32, Segeomjeong-ro 4-gil, Seodaemun-gu, Seoul,...</td>\n",
       "      <td>37.593742</td>\n",
       "      <td>126.949679</td>\n",
       "    </tr>\n",
       "  </tbody>\n",
       "</table>\n",
       "</div>"
      ],
      "text/plain": [
       "   Station code Station name(district)  \\\n",
       "0           101              Jongno-gu   \n",
       "1           102                Jung-gu   \n",
       "2           103             Yongsan-gu   \n",
       "3           104           Eunpyeong-gu   \n",
       "4           105           Seodaemun-gu   \n",
       "\n",
       "                                             Address   Latitude   Longitude  \n",
       "0  19, Jong-ro 35ga-gil, Jongno-gu, Seoul, Republ...  37.572016  127.005008  \n",
       "1  15, Deoksugung-gil, Jung-gu, Seoul, Republic o...  37.564263  126.974676  \n",
       "2  136, Hannam-daero, Yongsan-gu, Seoul, Republic...  37.540033  127.004850  \n",
       "3  215, Jinheung-ro, Eunpyeong-gu, Seoul, Republi...  37.609823  126.934848  \n",
       "4  32, Segeomjeong-ro 4-gil, Seodaemun-gu, Seoul,...  37.593742  126.949679  "
      ]
     },
     "execution_count": 4,
     "metadata": {},
     "output_type": "execute_result"
    }
   ],
   "source": [
    "station_info = read_csv(original_data + '/Measurement_station_info.csv')\n",
    "print(station_info.shape)\n",
    "print(station_info.dtypes)\n",
    "station_info.head()"
   ]
  },
  {
   "cell_type": "code",
   "execution_count": 5,
   "id": "e4777070",
   "metadata": {
    "execution": {
     "iopub.execute_input": "2022-06-21T20:06:28.948608Z",
     "iopub.status.busy": "2022-06-21T20:06:28.947964Z",
     "iopub.status.idle": "2022-06-21T20:06:28.954561Z",
     "shell.execute_reply": "2022-06-21T20:06:28.953273Z"
    },
    "id": "b4gVXm_Ue0G9",
    "outputId": "a6480128-2787-4e40-885d-6345394db082",
    "papermill": {
     "duration": 0.015661,
     "end_time": "2022-06-21T20:06:28.956406",
     "exception": false,
     "start_time": "2022-06-21T20:06:28.940745",
     "status": "completed"
    },
    "tags": []
   },
   "outputs": [
    {
     "name": "stdout",
     "output_type": "stream",
     "text": [
      "{101: 'Jongno-gu', 102: 'Jung-gu', 103: 'Yongsan-gu', 104: 'Eunpyeong-gu', 105: 'Seodaemun-gu', 106: 'Mapo-gu', 107: 'Seongdong-gu', 108: 'Gwangjin-gu', 109: 'Dongdaemun-gu', 110: 'Jungnang-gu', 111: 'Seongbuk-gu', 112: 'Gangbuk-gu', 113: 'Dobong-gu', 114: 'Nowon-gu', 115: 'Yangcheon-gu', 116: 'Gangseo-gu', 117: 'Guro-gu', 118: 'Geumcheon-gu', 119: 'Yeongdeungpo-gu', 120: 'Dongjak-gu', 121: 'Gwanak-gu', 122: 'Seocho-gu', 123: 'Gangnam-gu', 124: 'Songpa-gu', 125: 'Gangdong-gu'}\n"
     ]
    }
   ],
   "source": [
    "station_codes = station_info['Station code'].tolist()\n",
    "station_names = station_info['Station name(district)'].tolist()\n",
    "\n",
    "\n",
    "station_dict = { k:v for (k,v) in zip(station_codes, station_names)} \n",
    "print(station_dict)"
   ]
  },
  {
   "cell_type": "code",
   "execution_count": 6,
   "id": "85551699",
   "metadata": {
    "execution": {
     "iopub.execute_input": "2022-06-21T20:06:28.969716Z",
     "iopub.status.busy": "2022-06-21T20:06:28.969072Z",
     "iopub.status.idle": "2022-06-21T20:06:32.216534Z",
     "shell.execute_reply": "2022-06-21T20:06:32.215036Z"
    },
    "id": "ky__vUUHbZoq",
    "outputId": "c36d8f64-7585-4992-fd37-d2c1d1516587",
    "papermill": {
     "duration": 3.256536,
     "end_time": "2022-06-21T20:06:32.218661",
     "exception": false,
     "start_time": "2022-06-21T20:06:28.962125",
     "status": "completed"
    },
    "tags": []
   },
   "outputs": [
    {
     "name": "stdout",
     "output_type": "stream",
     "text": [
      "(3885066, 5)\n",
      "Measurement date      object\n",
      "Station code           int64\n",
      "Item code              int64\n",
      "Average value        float64\n",
      "Instrument status      int64\n",
      "dtype: object\n",
      "First date: 2017-01-01 00:00\n",
      "Last date: 2019-12-31 23:00\n"
     ]
    },
    {
     "data": {
      "text/html": [
       "<div>\n",
       "<style scoped>\n",
       "    .dataframe tbody tr th:only-of-type {\n",
       "        vertical-align: middle;\n",
       "    }\n",
       "\n",
       "    .dataframe tbody tr th {\n",
       "        vertical-align: top;\n",
       "    }\n",
       "\n",
       "    .dataframe thead th {\n",
       "        text-align: right;\n",
       "    }\n",
       "</style>\n",
       "<table border=\"1\" class=\"dataframe\">\n",
       "  <thead>\n",
       "    <tr style=\"text-align: right;\">\n",
       "      <th></th>\n",
       "      <th>Measurement date</th>\n",
       "      <th>Station code</th>\n",
       "      <th>Item code</th>\n",
       "      <th>Average value</th>\n",
       "      <th>Instrument status</th>\n",
       "    </tr>\n",
       "  </thead>\n",
       "  <tbody>\n",
       "    <tr>\n",
       "      <th>0</th>\n",
       "      <td>2017-01-01 00:00</td>\n",
       "      <td>101</td>\n",
       "      <td>1</td>\n",
       "      <td>0.004</td>\n",
       "      <td>0</td>\n",
       "    </tr>\n",
       "    <tr>\n",
       "      <th>1</th>\n",
       "      <td>2017-01-01 00:00</td>\n",
       "      <td>101</td>\n",
       "      <td>3</td>\n",
       "      <td>0.059</td>\n",
       "      <td>0</td>\n",
       "    </tr>\n",
       "    <tr>\n",
       "      <th>2</th>\n",
       "      <td>2017-01-01 00:00</td>\n",
       "      <td>101</td>\n",
       "      <td>5</td>\n",
       "      <td>1.200</td>\n",
       "      <td>0</td>\n",
       "    </tr>\n",
       "    <tr>\n",
       "      <th>3</th>\n",
       "      <td>2017-01-01 00:00</td>\n",
       "      <td>101</td>\n",
       "      <td>6</td>\n",
       "      <td>0.002</td>\n",
       "      <td>0</td>\n",
       "    </tr>\n",
       "    <tr>\n",
       "      <th>4</th>\n",
       "      <td>2017-01-01 00:00</td>\n",
       "      <td>101</td>\n",
       "      <td>8</td>\n",
       "      <td>73.000</td>\n",
       "      <td>0</td>\n",
       "    </tr>\n",
       "  </tbody>\n",
       "</table>\n",
       "</div>"
      ],
      "text/plain": [
       "   Measurement date  Station code  Item code  Average value  Instrument status\n",
       "0  2017-01-01 00:00           101          1          0.004                  0\n",
       "1  2017-01-01 00:00           101          3          0.059                  0\n",
       "2  2017-01-01 00:00           101          5          1.200                  0\n",
       "3  2017-01-01 00:00           101          6          0.002                  0\n",
       "4  2017-01-01 00:00           101          8         73.000                  0"
      ]
     },
     "execution_count": 6,
     "metadata": {},
     "output_type": "execute_result"
    }
   ],
   "source": [
    "measurement_info = read_csv(original_data + '/Measurement_info.csv')\n",
    "print(measurement_info.shape)\n",
    "print(measurement_info.dtypes)\n",
    "\n",
    "print('First date:', str(measurement_info['Measurement date'].min()))\n",
    "print('Last date:', str(measurement_info['Measurement date'].max()))\n",
    "measurement_info.head()"
   ]
  },
  {
   "cell_type": "markdown",
   "id": "8db3c9a6",
   "metadata": {
    "id": "JQXvPJXBoWd_",
    "papermill": {
     "duration": 0.006307,
     "end_time": "2022-06-21T20:06:32.231040",
     "exception": false,
     "start_time": "2022-06-21T20:06:32.224733",
     "status": "completed"
    },
    "tags": []
   },
   "source": [
    "## Data Cleaning & Processing\n",
    "\n",
    "- Only keep normal instrument status"
   ]
  },
  {
   "cell_type": "code",
   "execution_count": 7,
   "id": "b16d9638",
   "metadata": {
    "execution": {
     "iopub.execute_input": "2022-06-21T20:06:32.245299Z",
     "iopub.status.busy": "2022-06-21T20:06:32.244896Z",
     "iopub.status.idle": "2022-06-21T20:06:32.931143Z",
     "shell.execute_reply": "2022-06-21T20:06:32.930380Z"
    },
    "id": "k5qemQaUPLZU",
    "outputId": "2cd290ad-fe3c-45b5-e5c0-ded3b6ba0e74",
    "papermill": {
     "duration": 0.695671,
     "end_time": "2022-06-21T20:06:32.933283",
     "exception": false,
     "start_time": "2022-06-21T20:06:32.237612",
     "status": "completed"
    },
    "tags": []
   },
   "outputs": [
    {
     "data": {
      "text/plain": [
       "Text(0, 0.5, 'Freq / $10^6$')"
      ]
     },
     "execution_count": 7,
     "metadata": {},
     "output_type": "execute_result"
    },
    {
     "data": {
      "image/png": "[encoded data removed]",
      "text/plain": [
       "<Figure size 432x288 with 1 Axes>"
      ]
     },
     "metadata": {
      "needs_background": "light"
     },
     "output_type": "display_data"
    }
   ],
   "source": [
    "import matplotlib.pyplot as plt\n",
    "# Note on Instrument status codes\n",
    "intrument_status = {\n",
    "    0: 'Normal',\n",
    "    1: 'Need for calibration',\n",
    "    2: 'Abnormal',\n",
    "    4: 'Power cut off',\n",
    "    8: 'Under repair',\n",
    "    9: 'Abnormal data',\n",
    "}\n",
    "\n",
    "\n",
    "status_freq = measurement_info.groupby('Instrument status').count()\n",
    "plt.bar(list(intrument_status.values()), status_freq['Average value'].values/10**6)\n",
    "plt.ylabel(r'Freq / $10^6$')"
   ]
  },
  {
   "cell_type": "code",
   "execution_count": 8,
   "id": "29751b1d",
   "metadata": {
    "execution": {
     "iopub.execute_input": "2022-06-21T20:06:32.947601Z",
     "iopub.status.busy": "2022-06-21T20:06:32.947226Z",
     "iopub.status.idle": "2022-06-21T20:06:33.122173Z",
     "shell.execute_reply": "2022-06-21T20:06:33.121036Z"
    },
    "id": "LK_FmGMgoTRa",
    "outputId": "54d5a926-4698-4f69-a89d-0aeacec71ee8",
    "papermill": {
     "duration": 0.18485,
     "end_time": "2022-06-21T20:06:33.124470",
     "exception": false,
     "start_time": "2022-06-21T20:06:32.939620",
     "status": "completed"
    },
    "tags": []
   },
   "outputs": [
    {
     "data": {
      "text/plain": [
       "(3775778, 5)"
      ]
     },
     "execution_count": 8,
     "metadata": {},
     "output_type": "execute_result"
    }
   ],
   "source": [
    "measurement_info_clean = measurement_info.loc[measurement_info['Instrument status'] == 0]\n",
    "measurement_info_clean.shape"
   ]
  },
  {
   "cell_type": "markdown",
   "id": "ba3971c2",
   "metadata": {
    "id": "Mz5rOB5nr0zM",
    "papermill": {
     "duration": 0.006076,
     "end_time": "2022-06-21T20:06:33.137031",
     "exception": false,
     "start_time": "2022-06-21T20:06:33.130955",
     "status": "completed"
    },
    "tags": []
   },
   "source": [
    "## Analysing all Stations together\n"
   ]
  },
  {
   "cell_type": "code",
   "execution_count": 9,
   "id": "0c9216c4",
   "metadata": {
    "execution": {
     "iopub.execute_input": "2022-06-21T20:06:33.151375Z",
     "iopub.status.busy": "2022-06-21T20:06:33.151007Z",
     "iopub.status.idle": "2022-06-21T20:06:33.156517Z",
     "shell.execute_reply": "2022-06-21T20:06:33.155339Z"
    },
    "id": "oEVemT2SoTXN",
    "outputId": "44c0cb3c-84ad-48a7-bc85-2e611c3b06da",
    "papermill": {
     "duration": 0.01589,
     "end_time": "2022-06-21T20:06:33.159304",
     "exception": false,
     "start_time": "2022-06-21T20:06:33.143414",
     "status": "completed"
    },
    "tags": []
   },
   "outputs": [
    {
     "name": "stdout",
     "output_type": "stream",
     "text": [
      "[(1, 'SO2'), (3, 'NO2'), (5, 'CO'), (6, 'O3'), (8, 'PM10'), (9, 'PM2.5')]\n",
      "6\n"
     ]
    }
   ],
   "source": [
    "code_to_item = list(item_dict.items())\n",
    "no_item = len(code_to_item)\n",
    "\n",
    "print(code_to_item)\n",
    "print(no_item)"
   ]
  },
  {
   "cell_type": "code",
   "execution_count": 10,
   "id": "114da602",
   "metadata": {
    "execution": {
     "iopub.execute_input": "2022-06-21T20:06:33.174373Z",
     "iopub.status.busy": "2022-06-21T20:06:33.173305Z",
     "iopub.status.idle": "2022-06-21T20:06:34.338509Z",
     "shell.execute_reply": "2022-06-21T20:06:34.337230Z"
    },
    "id": "JeNeozaotku_",
    "outputId": "f148c6ef-8d2a-4cb0-e5b3-5fc8935eb274",
    "papermill": {
     "duration": 1.175236,
     "end_time": "2022-06-21T20:06:34.340964",
     "exception": false,
     "start_time": "2022-06-21T20:06:33.165728",
     "status": "completed"
    },
    "tags": []
   },
   "outputs": [
    {
     "data": {
      "image/png": "[encoded data removed]",
      "text/plain": [
       "<Figure size 864x288 with 6 Axes>"
      ]
     },
     "metadata": {
      "needs_background": "light"
     },
     "output_type": "display_data"
    }
   ],
   "source": [
    "import matplotlib.pyplot as plt\n",
    "\n",
    "positions = range(1,no_item+1)\n",
    "\n",
    "\n",
    "\n",
    "# Create main figure\n",
    "\n",
    "fig = plt.figure(1, figsize = [12,4])\n",
    "for k in range(no_item):\n",
    "\n",
    "  # add every single subplot to the figure with a for loop\n",
    "\n",
    "  ax = fig.add_subplot(1,no_item, positions[k])\n",
    "  #ax.plot(x,y)     # Or whatever you want in the subplot\n",
    "  df = measurement_info_clean.loc[measurement_info_clean['Item code'] == code_to_item[k][0]]\n",
    "  ax.boxplot(df['Average value'], widths=0.5, labels=[code_to_item[k][1]])\n",
    "\n",
    "\n",
    "fig.tight_layout()\n",
    "\n",
    "plt.show()"
   ]
  },
  {
   "cell_type": "code",
   "execution_count": 11,
   "id": "3527c8d6",
   "metadata": {
    "execution": {
     "iopub.execute_input": "2022-06-21T20:06:34.357381Z",
     "iopub.status.busy": "2022-06-21T20:06:34.356286Z",
     "iopub.status.idle": "2022-06-21T20:06:35.622957Z",
     "shell.execute_reply": "2022-06-21T20:06:35.622176Z"
    },
    "id": "vLGlUHSsoTZV",
    "outputId": "7bcc0d0c-2bc3-4d68-83c9-36833e2ea947",
    "papermill": {
     "duration": 1.27723,
     "end_time": "2022-06-21T20:06:35.625363",
     "exception": false,
     "start_time": "2022-06-21T20:06:34.348133",
     "status": "completed"
    },
    "tags": []
   },
   "outputs": [
    {
     "data": {
      "image/png": "[encoded data removed]",
      "text/plain": [
       "<Figure size 864x288 with 6 Axes>"
      ]
     },
     "metadata": {
      "needs_background": "light"
     },
     "output_type": "display_data"
    }
   ],
   "source": [
    "\n",
    "fig = plt.figure(1, figsize = [12,4])\n",
    "for k in range(no_item):\n",
    "\n",
    "  # add every single subplot to the figure with a for loop\n",
    "\n",
    "  ax = fig.add_subplot(1,no_item, positions[k])\n",
    "  #ax.plot(x,y)     # Or whatever you want in the subplot\n",
    "  df = measurement_info_clean.loc[measurement_info_clean['Item code'] == code_to_item[k][0]]\n",
    "  ax.boxplot(df['Average value'], widths=0.5, labels=[code_to_item[k][1]])\n",
    "  ax.axhline(y=item_info['Good(Blue)'][k], color='blue')\n",
    "  ax.axhline(y=item_info['Normal(Green)'][k], color='green')\n",
    "  ax.axhline(y=item_info['Bad(Yellow)'][k], color='yellow')\n",
    "\n",
    "\n",
    "\n",
    "fig.tight_layout()\n",
    "\n",
    "plt.show()"
   ]
  },
  {
   "cell_type": "markdown",
   "id": "79cabe5c",
   "metadata": {
    "id": "IdgEGyHb4Rpj",
    "papermill": {
     "duration": 0.007123,
     "end_time": "2022-06-21T20:06:35.640198",
     "exception": false,
     "start_time": "2022-06-21T20:06:35.633075",
     "status": "completed"
    },
    "tags": []
   },
   "source": [
    "Good pollution levels.\n",
    "Many outliers for pm10, pm2.5, perhaps one of the stations is next to a strong source, or there was a one off strong event?"
   ]
  },
  {
   "cell_type": "markdown",
   "id": "1491a4d0",
   "metadata": {
    "id": "tjaBvQ8u32FG",
    "papermill": {
     "duration": 0.007149,
     "end_time": "2022-06-21T20:06:35.655185",
     "exception": false,
     "start_time": "2022-06-21T20:06:35.648036",
     "status": "completed"
    },
    "tags": []
   },
   "source": [
    "## Trends"
   ]
  },
  {
   "cell_type": "code",
   "execution_count": 12,
   "id": "465f43a5",
   "metadata": {
    "execution": {
     "iopub.execute_input": "2022-06-21T20:06:35.672128Z",
     "iopub.status.busy": "2022-06-21T20:06:35.671444Z",
     "iopub.status.idle": "2022-06-21T20:06:36.166365Z",
     "shell.execute_reply": "2022-06-21T20:06:36.165228Z"
    },
    "id": "ujHsimJE3ICu",
    "outputId": "37d21973-6344-4884-a966-1c9ed9c8aa87",
    "papermill": {
     "duration": 0.505932,
     "end_time": "2022-06-21T20:06:36.168533",
     "exception": false,
     "start_time": "2022-06-21T20:06:35.662601",
     "status": "completed"
    },
    "tags": []
   },
   "outputs": [
    {
     "data": {
      "image/png": "[encoded data removed]",
      "text/plain": [
       "<Figure size 864x288 with 1 Axes>"
      ]
     },
     "metadata": {
      "needs_background": "light"
     },
     "output_type": "display_data"
    }
   ],
   "source": [
    "import numpy as np\n",
    "so2 = measurement_info_clean.loc[measurement_info_clean['Item code'] == 1]\n",
    "no2 = measurement_info_clean.loc[measurement_info_clean['Item code'] == 3]\n",
    "co = measurement_info_clean.loc[measurement_info_clean['Item code'] == 5]\n",
    "o3 = measurement_info_clean.loc[measurement_info_clean['Item code'] == 6]\n",
    "pm10 = measurement_info_clean.loc[measurement_info_clean['Item code'] == 8]\n",
    "pm25 = measurement_info_clean.loc[measurement_info_clean['Item code'] == 9]\n",
    "\n",
    "\n",
    "no2_groupbydates = no2.groupby(\"Measurement date\")[\"Average value\"].mean()\n",
    "no2_level = no2_groupbydates.values\n",
    "plt.rcParams[\"figure.figsize\"] = (12,4)\n",
    "plt.plot(np.arange(0, len(no2_level))/24, no2_level)\n",
    "plt.xlabel('Days')\n",
    "plt.ylabel('ppm')\n",
    "plt.show()\n",
    "# high in winter - more heating, driving cars?\n",
    "# lower in summer"
   ]
  },
  {
   "cell_type": "code",
   "execution_count": 13,
   "id": "c7406bac",
   "metadata": {
    "execution": {
     "iopub.execute_input": "2022-06-21T20:06:36.187017Z",
     "iopub.status.busy": "2022-06-21T20:06:36.186625Z",
     "iopub.status.idle": "2022-06-21T20:06:36.391817Z",
     "shell.execute_reply": "2022-06-21T20:06:36.390633Z"
    },
    "id": "7YxRr9G6CBgl",
    "outputId": "950e1522-038b-4dbe-a042-d00488a4cd5e",
    "papermill": {
     "duration": 0.218447,
     "end_time": "2022-06-21T20:06:36.395524",
     "exception": false,
     "start_time": "2022-06-21T20:06:36.177077",
     "status": "completed"
    },
    "tags": []
   },
   "outputs": [
    {
     "data": {
      "image/png": "[encoded data removed]",
      "text/plain": [
       "<Figure size 864x288 with 1 Axes>"
      ]
     },
     "metadata": {
      "needs_background": "light"
     },
     "output_type": "display_data"
    }
   ],
   "source": [
    "pm10_groupbydates = pm10.groupby(\"Measurement date\")[\"Average value\"].mean()\n",
    "pm10_level = pm10_groupbydates.values\n",
    "#plt.rcParams[\"figure.figsize\"] = (12,4)\n",
    "plt.plot(np.arange(0, len(no2_level))/24, pm10_level)\n",
    "plt.xlabel('Days')\n",
    "#plt.xlim([460, 465])\n",
    "plt.ylabel('microgram/m3')\n",
    "plt.show()\n",
    "# some very sharp peaks around 5th may - children's day, and 5th april - arbor day\n",
    "# \n"
   ]
  },
  {
   "cell_type": "code",
   "execution_count": 14,
   "id": "23a4ebfc",
   "metadata": {
    "execution": {
     "iopub.execute_input": "2022-06-21T20:06:36.415259Z",
     "iopub.status.busy": "2022-06-21T20:06:36.414188Z",
     "iopub.status.idle": "2022-06-21T20:06:36.682169Z",
     "shell.execute_reply": "2022-06-21T20:06:36.681145Z"
    },
    "id": "JCQ8Fd4MFXov",
    "outputId": "58f0e518-692a-4ae3-cec5-4b71838c3334",
    "papermill": {
     "duration": 0.280143,
     "end_time": "2022-06-21T20:06:36.684449",
     "exception": false,
     "start_time": "2022-06-21T20:06:36.404306",
     "status": "completed"
    },
    "tags": []
   },
   "outputs": [
    {
     "data": {
      "image/png": "[encoded data removed]",
      "text/plain": [
       "<Figure size 864x288 with 1 Axes>"
      ]
     },
     "metadata": {
      "needs_background": "light"
     },
     "output_type": "display_data"
    }
   ],
   "source": [
    "pm25_groupbydates = pm25.groupby(\"Measurement date\")[\"Average value\"].mean()\n",
    "pm25_level = pm25_groupbydates.values\n",
    "#plt.rcParams[\"figure.figsize\"] = (12,4)\n",
    "plt.plot(np.arange(0, len(no2_level))/24, pm25_level)\n",
    "plt.xlabel('Days')\n",
    "#plt.xlim([750, 800])\n",
    "plt.ylabel('microgram/m3')\n",
    "plt.show()\n",
    "# some very sharp peaks around 5th may - children's day, and 5th april - arbor day\n",
    "# coincide with public holidays??"
   ]
  },
  {
   "cell_type": "code",
   "execution_count": 15,
   "id": "06765165",
   "metadata": {
    "execution": {
     "iopub.execute_input": "2022-06-21T20:06:36.704998Z",
     "iopub.status.busy": "2022-06-21T20:06:36.704378Z",
     "iopub.status.idle": "2022-06-21T20:06:36.896913Z",
     "shell.execute_reply": "2022-06-21T20:06:36.896109Z"
    },
    "id": "Z_7ltrqOKLvs",
    "papermill": {
     "duration": 0.205451,
     "end_time": "2022-06-21T20:06:36.899118",
     "exception": false,
     "start_time": "2022-06-21T20:06:36.693667",
     "status": "completed"
    },
    "tags": []
   },
   "outputs": [],
   "source": [
    "co_groupbydates = co.groupby(\"Measurement date\")[\"Average value\"].mean()\n",
    "so2_groupbydates = so2.groupby(\"Measurement date\")[\"Average value\"].mean()\n",
    "o3_groupbydates = o3.groupby(\"Measurement date\")[\"Average value\"].mean()"
   ]
  },
  {
   "cell_type": "code",
   "execution_count": 16,
   "id": "93ca3184",
   "metadata": {
    "execution": {
     "iopub.execute_input": "2022-06-21T20:06:36.919562Z",
     "iopub.status.busy": "2022-06-21T20:06:36.918994Z",
     "iopub.status.idle": "2022-06-21T20:06:37.228345Z",
     "shell.execute_reply": "2022-06-21T20:06:37.227091Z"
    },
    "id": "o6Kt56igC_vd",
    "outputId": "bcf03b54-43d1-4c70-a403-d285af144b07",
    "papermill": {
     "duration": 0.323314,
     "end_time": "2022-06-21T20:06:37.231572",
     "exception": false,
     "start_time": "2022-06-21T20:06:36.908258",
     "status": "completed"
    },
    "tags": []
   },
   "outputs": [
    {
     "data": {
      "image/png": "[encoded data removed]",
      "text/plain": [
       "<Figure size 864x288 with 2 Axes>"
      ]
     },
     "metadata": {
      "needs_background": "light"
     },
     "output_type": "display_data"
    }
   ],
   "source": [
    "from pandas import concat\n",
    "horizontal_concat = concat([so2_groupbydates, no2_groupbydates, co_groupbydates, o3_groupbydates, pm10_groupbydates, pm25_groupbydates], axis=1)\n",
    "correlations = horizontal_concat.corr() \n",
    "# plot correlation matrix \n",
    "fig = plt.figure() \n",
    "ax = fig.add_subplot(111) \n",
    "cax = ax.matshow(correlations, vmin=-1, vmax=1) \n",
    "fig.colorbar(cax) \n",
    "ticks = np.arange(0, len(item_name))\n",
    "ax.set_xticks(ticks) \n",
    "ax.set_yticks(ticks) \n",
    "ax.set_xticklabels(item_name) \n",
    "ax.set_yticklabels(item_name)\n",
    "plt.show()"
   ]
  },
  {
   "cell_type": "code",
   "execution_count": 17,
   "id": "a5bcb3bf",
   "metadata": {
    "execution": {
     "iopub.execute_input": "2022-06-21T20:06:37.269504Z",
     "iopub.status.busy": "2022-06-21T20:06:37.268858Z",
     "iopub.status.idle": "2022-06-21T20:06:37.274043Z",
     "shell.execute_reply": "2022-06-21T20:06:37.273363Z"
    },
    "id": "Moz7lDn0KnZM",
    "papermill": {
     "duration": 0.024758,
     "end_time": "2022-06-21T20:06:37.276059",
     "exception": false,
     "start_time": "2022-06-21T20:06:37.251301",
     "status": "completed"
    },
    "tags": []
   },
   "outputs": [],
   "source": [
    "# pm10, pm2.5 strong correlation\n",
    "# co, no2 strong correlation"
   ]
  },
  {
   "cell_type": "markdown",
   "id": "d6fb6970",
   "metadata": {
    "id": "ZAs-PtOocwUT",
    "papermill": {
     "duration": 0.008905,
     "end_time": "2022-06-21T20:06:37.294266",
     "exception": false,
     "start_time": "2022-06-21T20:06:37.285361",
     "status": "completed"
    },
    "tags": []
   },
   "source": [
    "## Grouping Stations for NO2\n",
    "\n",
    "\n"
   ]
  },
  {
   "cell_type": "code",
   "execution_count": 18,
   "id": "ed130508",
   "metadata": {
    "execution": {
     "iopub.execute_input": "2022-06-21T20:06:37.314892Z",
     "iopub.status.busy": "2022-06-21T20:06:37.314178Z",
     "iopub.status.idle": "2022-06-21T20:06:37.571192Z",
     "shell.execute_reply": "2022-06-21T20:06:37.570181Z"
    },
    "id": "oDiwqlB6hMGb",
    "outputId": "1bd83f18-f7c8-4de7-f4b4-5a008da22f19",
    "papermill": {
     "duration": 0.269632,
     "end_time": "2022-06-21T20:06:37.573375",
     "exception": false,
     "start_time": "2022-06-21T20:06:37.303743",
     "status": "completed"
    },
    "tags": []
   },
   "outputs": [
    {
     "data": {
      "image/png": "[encoded data removed]",
      "text/plain": [
       "<Figure size 864x288 with 1 Axes>"
      ]
     },
     "metadata": {
      "needs_background": "light"
     },
     "output_type": "display_data"
    }
   ],
   "source": [
    "no2 = measurement_info_clean.loc[measurement_info_clean['Item code'] == 3]\n",
    "no2_groupbydistrict = pm10.groupby([\"Station code\"])[\"Average value\"].mean()\n",
    "plt.bar(station_codes, no2_groupbydistrict.values)\n",
    "plt.ylabel('no2 / ppm')\n",
    "plt.xlabel('Station code')\n",
    "plt.show()"
   ]
  },
  {
   "cell_type": "code",
   "execution_count": 19,
   "id": "8375884b",
   "metadata": {
    "execution": {
     "iopub.execute_input": "2022-06-21T20:06:37.594349Z",
     "iopub.status.busy": "2022-06-21T20:06:37.593976Z",
     "iopub.status.idle": "2022-06-21T20:06:37.599436Z",
     "shell.execute_reply": "2022-06-21T20:06:37.598661Z"
    },
    "id": "615fLWkEhy2_",
    "outputId": "11db6e75-8c9c-429f-d343-73fd59a0b133",
    "papermill": {
     "duration": 0.018264,
     "end_time": "2022-06-21T20:06:37.601285",
     "exception": false,
     "start_time": "2022-06-21T20:06:37.583021",
     "status": "completed"
    },
    "tags": []
   },
   "outputs": [
    {
     "data": {
      "text/plain": [
       "('Yeongdeungpo-gu', 'Yongsan-gu')"
      ]
     },
     "execution_count": 19,
     "metadata": {},
     "output_type": "execute_result"
    }
   ],
   "source": [
    "station_dict[119], station_dict[103]\n",
    "# Yongsan-gu lowest has Yongsan Park\n",
    "# Yeongdeungpo-gu has smaller park, more roads\n"
   ]
  }
 ],
 "metadata": {
  "kernelspec": {
   "display_name": "Python 3",
   "language": "python",
   "name": "python3"
  },
  "language_info": {
   "codemirror_mode": {
    "name": "ipython",
    "version": 3
   },
   "file_extension": ".py",
   "mimetype": "text/x-python",
   "name": "python",
   "nbconvert_exporter": "python",
   "pygments_lexer": "ipython3",
   "version": "3.7.12"
  },
  "papermill": {
   "default_parameters": {},
   "duration": 17.997002,
   "end_time": "2022-06-21T20:06:38.332392",
   "environment_variables": {},
   "exception": null,
   "input_path": "__notebook__.ipynb",
   "output_path": "__notebook__.ipynb",
   "parameters": {},
   "start_time": "2022-06-21T20:06:20.335390",
   "version": "2.3.4"
  }
 },
 "nbformat": 4,
 "nbformat_minor": 5
}
